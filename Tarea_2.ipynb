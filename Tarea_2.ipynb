{
 "cells": [
  {
   "cell_type": "markdown",
   "metadata": {},
   "source": [
    "# Tarea 2 Expresiones en Python\n",
    "## 1. Cálculo de un pago con horas extras\n",
    "Escriba un programa para pedirle al usuario las horas y la tarifa por hora usando la entrada\n",
    "para calcular el salario bruto. Paga la tarifa por hora por las horas hasta 40 y 1.5 veces la tarifa\n",
    "por hora para todas las horas de trabajó por encima de las 40 horas. Use 45 horas y una tasa\n",
    "de 10.50 por hora para probar el programa (la paga debe ser 498.75). Debes\n",
    "utilizar input para lee una cadena y float () para convertir la cadena en un número. No se\n",
    "preocupe por la comprobación de errores en la entrada del usuario: suponga que el usuario\n",
    "escribe los números correctamente."
   ]
  },
  {
   "cell_type": "code",
   "execution_count": null,
   "metadata": {},
   "outputs": [],
   "source": [
    "hrs = input (\"Enter Hours: \")\n",
    "print(pay)"
   ]
  },
  {
   "cell_type": "markdown",
   "metadata": {},
   "source": [
    "Salida deseada\n",
    "El pago es: 498.75"
   ]
  }
 ],
 "metadata": {
  "kernelspec": {
   "display_name": "Python 3",
   "language": "python",
   "name": "python3"
  },
  "language_info": {
   "codemirror_mode": {
    "name": "ipython",
    "version": 3
   },
   "file_extension": ".py",
   "mimetype": "text/x-python",
   "name": "python",
   "nbconvert_exporter": "python",
   "pygments_lexer": "ipython3",
   "version": "3.8.3"
  }
 },
 "nbformat": 4,
 "nbformat_minor": 4
}
